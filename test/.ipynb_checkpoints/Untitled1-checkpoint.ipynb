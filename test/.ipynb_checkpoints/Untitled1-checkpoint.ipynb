{
 "cells": [
  {
   "cell_type": "code",
   "execution_count": 1,
   "id": "f3d0c45c",
   "metadata": {},
   "outputs": [
    {
     "name": "stdout",
     "output_type": "stream",
     "text": [
      "This is id\n",
      "这个方法被调用\n",
      "This is id\n"
     ]
    }
   ],
   "source": [
    "class Tag:\n",
    "    def __init__(self,id):\n",
    "        self.id=id\n",
    " \n",
    "    def __getitem__(self, item):\n",
    "        print('这个方法被调用')\n",
    "        return self.id\n",
    " \n",
    "a=Tag('This is id')\n",
    "print(a.id)\n",
    "print(a['python'])"
   ]
  },
  {
   "cell_type": "code",
   "execution_count": 8,
   "id": "569e33f9",
   "metadata": {},
   "outputs": [
    {
     "name": "stdout",
     "output_type": "stream",
     "text": [
      "This is id\n"
     ]
    }
   ],
   "source": [
    "class Tag1:\n",
    "    def __init__(self,id):\n",
    "        self.id = id\n",
    " \n",
    "    def __getitem__(self, item):\n",
    "        print('这个方法被调用')\n",
    "        return item\n",
    " \n",
    "a=Tag1('This is id')\n",
    "print(a.id)\n",
    "a=Tag1('This is id')\n",
    "print(a.id)\n",
    "# print(a['python'])"
   ]
  },
  {
   "cell_type": "code",
   "execution_count": 9,
   "id": "322fa54d",
   "metadata": {},
   "outputs": [
    {
     "name": "stdout",
     "output_type": "stream",
     "text": [
      "[0, 1, 2, 3, 4, 5, 6, 7, 8, 9]\n"
     ]
    }
   ],
   "source": [
    "def sum(su):\n",
    "    for i in range(10):\n",
    "        su.append(i)\n",
    "\n",
    "s = []\n",
    "sum(s)\n",
    "print(s)"
   ]
  },
  {
   "cell_type": "code",
   "execution_count": 1,
   "id": "25d41037",
   "metadata": {},
   "outputs": [],
   "source": [
    "from pprint import pprint\n",
    "from paddlenlp import Taskflow\n",
    "\n",
    "# https://universal-ie.github.io/\n",
    "# https://github.com/PaddlePaddle/PaddleNLP/tree/develop/model_zoo/uie"
   ]
  },
  {
   "cell_type": "code",
   "execution_count": 2,
   "id": "dd4d44f8",
   "metadata": {},
   "outputs": [
    {
     "name": "stderr",
     "output_type": "stream",
     "text": [
      "\u001b[37m---    fused 0 elementwise_add with relu activation\u001b[0m\n",
      "\u001b[37m---    fused 0 elementwise_add with tanh activation\u001b[0m\n",
      "\u001b[37m---    fused 0 elementwise_add with leaky_relu activation\u001b[0m\n",
      "\u001b[37m---    fused 0 elementwise_add with swish activation\u001b[0m\n",
      "\u001b[37m---    fused 0 elementwise_add with hardswish activation\u001b[0m\n",
      "\u001b[37m---    fused 0 elementwise_add with sqrt activation\u001b[0m\n",
      "\u001b[37m---    fused 0 elementwise_add with abs activation\u001b[0m\n",
      "\u001b[37m---    fused 0 elementwise_add with clip activation\u001b[0m\n",
      "\u001b[37m---    fused 0 elementwise_add with gelu activation\u001b[0m\n",
      "\u001b[37m---    fused 0 elementwise_add with relu6 activation\u001b[0m\n",
      "\u001b[37m---    fused 0 elementwise_add with sigmoid activation\u001b[0m\n",
      "\u001b[37m---    fused 0 elementwise_sub with relu activation\u001b[0m\n",
      "\u001b[37m---    fused 0 elementwise_sub with tanh activation\u001b[0m\n",
      "\u001b[37m---    fused 0 elementwise_sub with leaky_relu activation\u001b[0m\n",
      "\u001b[37m---    fused 0 elementwise_sub with swish activation\u001b[0m\n",
      "\u001b[37m---    fused 0 elementwise_sub with hardswish activation\u001b[0m\n",
      "\u001b[37m---    fused 0 elementwise_sub with sqrt activation\u001b[0m\n",
      "\u001b[37m---    fused 0 elementwise_sub with abs activation\u001b[0m\n",
      "\u001b[37m---    fused 0 elementwise_sub with clip activation\u001b[0m\n",
      "\u001b[37m---    fused 0 elementwise_sub with gelu activation\u001b[0m\n",
      "\u001b[37m---    fused 0 elementwise_sub with relu6 activation\u001b[0m\n",
      "\u001b[37m---    fused 0 elementwise_sub with sigmoid activation\u001b[0m\n",
      "\u001b[37m---    fused 0 elementwise_mul with relu activation\u001b[0m\n",
      "\u001b[37m---    fused 0 elementwise_mul with tanh activation\u001b[0m\n",
      "\u001b[37m---    fused 0 elementwise_mul with leaky_relu activation\u001b[0m\n",
      "\u001b[37m---    fused 0 elementwise_mul with swish activation\u001b[0m\n",
      "\u001b[37m---    fused 0 elementwise_mul with hardswish activation\u001b[0m\n",
      "\u001b[37m---    fused 0 elementwise_mul with sqrt activation\u001b[0m\n",
      "\u001b[37m---    fused 0 elementwise_mul with abs activation\u001b[0m\n",
      "\u001b[37m---    fused 0 elementwise_mul with clip activation\u001b[0m\n",
      "\u001b[37m---    fused 0 elementwise_mul with gelu activation\u001b[0m\n",
      "\u001b[37m---    fused 0 elementwise_mul with relu6 activation\u001b[0m\n",
      "\u001b[37m---    fused 0 elementwise_mul with sigmoid activation\u001b[0m\n",
      "\u001b[32m[2022-11-18 00:25:46,464] [    INFO]\u001b[0m - We are using <class 'paddlenlp.transformers.ernie.tokenizer.ErnieTokenizer'> to load '/home/zzz/.paddlenlp/taskflow/information_extraction/uie-base'.\u001b[0m\n"
     ]
    },
    {
     "name": "stdout",
     "output_type": "stream",
     "text": [
      "[{'时间': [{'end': 6,\n",
      "          'probability': 0.9857378532473966,\n",
      "          'start': 0,\n",
      "          'text': '2月8日上午'}],\n",
      "  '赛事名称': [{'end': 23,\n",
      "            'probability': 0.8503081103003893,\n",
      "            'start': 6,\n",
      "            'text': '北京冬奥会自由式滑雪女子大跳台决赛'}],\n",
      "  '选手': [{'end': 31,\n",
      "          'probability': 0.8981535684051067,\n",
      "          'start': 28,\n",
      "          'text': '谷爱凌'}]}]\n"
     ]
    }
   ],
   "source": [
    "schema = ['时间', '选手', '赛事名称']\n",
    "ie = Taskflow('information_extraction', schema=schema)\n",
    "pprint(ie(\"2月8日上午北京冬奥会自由式滑雪女子大跳台决赛中中国选手谷爱凌以188.25分获得金牌！\"))"
   ]
  },
  {
   "cell_type": "code",
   "execution_count": 3,
   "id": "83453391",
   "metadata": {},
   "outputs": [
    {
     "name": "stdout",
     "output_type": "stream",
     "text": [
      "[{'肝癌级别': [{'end': 20,\n",
      "            'probability': 0.9246461700957553,\n",
      "            'start': 13,\n",
      "            'text': 'II-III级'}],\n",
      "  '肿瘤的个数': [{'end': 84,\n",
      "             'probability': 0.7917912337346564,\n",
      "             'start': 82,\n",
      "             'text': '1个'}],\n",
      "  '肿瘤的大小': [{'end': 100,\n",
      "             'probability': 0.8300158605474053,\n",
      "             'start': 87,\n",
      "             'text': '4.2×4.0×2.8cm'}],\n",
      "  '脉管内癌栓分级': [{'end': 70,\n",
      "               'probability': 0.9117306604741771,\n",
      "               'start': 67,\n",
      "               'text': 'M0级'}]}]\n"
     ]
    }
   ],
   "source": [
    "schema = ['肿瘤的大小', '肿瘤的个数', '肝癌级别', '脉管内癌栓分级']\n",
    "ie.set_schema(schema)\n",
    "pprint(ie(\"（右肝肿瘤）肝细胞性肝癌（II-III级，梁索型和假腺管型），肿瘤包膜不完整，紧邻肝被膜，侵及周围肝组织，未见脉管内癌栓（MVI分级：M0级）及卫星子灶形成。（肿物1个，大小4.2×4.0×2.8cm）。\"))"
   ]
  },
  {
   "cell_type": "code",
   "execution_count": 4,
   "id": "e98289bf",
   "metadata": {},
   "outputs": [
    {
     "name": "stderr",
     "output_type": "stream",
     "text": [
      "\u001b[37m---    fused 0 elementwise_add with relu activation\u001b[0m\n",
      "\u001b[37m---    fused 0 elementwise_add with tanh activation\u001b[0m\n",
      "\u001b[37m---    fused 0 elementwise_add with leaky_relu activation\u001b[0m\n",
      "\u001b[37m---    fused 0 elementwise_add with swish activation\u001b[0m\n",
      "\u001b[37m---    fused 0 elementwise_add with hardswish activation\u001b[0m\n",
      "\u001b[37m---    fused 0 elementwise_add with sqrt activation\u001b[0m\n",
      "\u001b[37m---    fused 0 elementwise_add with abs activation\u001b[0m\n",
      "\u001b[37m---    fused 0 elementwise_add with clip activation\u001b[0m\n",
      "\u001b[37m---    fused 0 elementwise_add with gelu activation\u001b[0m\n",
      "\u001b[37m---    fused 0 elementwise_add with relu6 activation\u001b[0m\n",
      "\u001b[37m---    fused 0 elementwise_add with sigmoid activation\u001b[0m\n",
      "\u001b[37m---    fused 0 elementwise_sub with relu activation\u001b[0m\n",
      "\u001b[37m---    fused 0 elementwise_sub with tanh activation\u001b[0m\n",
      "\u001b[37m---    fused 0 elementwise_sub with leaky_relu activation\u001b[0m\n",
      "\u001b[37m---    fused 0 elementwise_sub with swish activation\u001b[0m\n",
      "\u001b[37m---    fused 0 elementwise_sub with hardswish activation\u001b[0m\n",
      "\u001b[37m---    fused 0 elementwise_sub with sqrt activation\u001b[0m\n",
      "\u001b[37m---    fused 0 elementwise_sub with abs activation\u001b[0m\n",
      "\u001b[37m---    fused 0 elementwise_sub with clip activation\u001b[0m\n",
      "\u001b[37m---    fused 0 elementwise_sub with gelu activation\u001b[0m\n",
      "\u001b[37m---    fused 0 elementwise_sub with relu6 activation\u001b[0m\n",
      "\u001b[37m---    fused 0 elementwise_sub with sigmoid activation\u001b[0m\n",
      "\u001b[37m---    fused 0 elementwise_mul with relu activation\u001b[0m\n",
      "\u001b[37m---    fused 0 elementwise_mul with tanh activation\u001b[0m\n",
      "\u001b[37m---    fused 0 elementwise_mul with leaky_relu activation\u001b[0m\n",
      "\u001b[37m---    fused 0 elementwise_mul with swish activation\u001b[0m\n",
      "\u001b[37m---    fused 0 elementwise_mul with hardswish activation\u001b[0m\n",
      "\u001b[37m---    fused 0 elementwise_mul with sqrt activation\u001b[0m\n",
      "\u001b[37m---    fused 0 elementwise_mul with abs activation\u001b[0m\n",
      "\u001b[37m---    fused 0 elementwise_mul with clip activation\u001b[0m\n",
      "\u001b[37m---    fused 0 elementwise_mul with gelu activation\u001b[0m\n",
      "\u001b[37m---    fused 0 elementwise_mul with relu6 activation\u001b[0m\n",
      "\u001b[37m---    fused 0 elementwise_mul with sigmoid activation\u001b[0m\n",
      "\u001b[32m[2022-11-18 00:26:04,783] [    INFO]\u001b[0m - We are using <class 'paddlenlp.transformers.ernie.tokenizer.ErnieTokenizer'> to load '/home/zzz/.paddlenlp/taskflow/information_extraction/uie-base-en'.\u001b[0m\n"
     ]
    },
    {
     "name": "stdout",
     "output_type": "stream",
     "text": [
      "[{'Organization': [{'end': 53,\n",
      "                    'probability': 0.9997133770929878,\n",
      "                    'start': 48,\n",
      "                    'text': 'Apple'}],\n",
      "  'Person': [{'end': 14,\n",
      "              'probability': 0.9990940779869675,\n",
      "              'start': 9,\n",
      "              'text': 'Steve'}]}]\n"
     ]
    }
   ],
   "source": [
    "schema = ['Person', 'Organization']\n",
    "ie_en = Taskflow('information_extraction', schema=schema, model='uie-base-en')\n",
    "pprint(ie_en('In 1997, Steve was excited to become the CEO of Apple.'))"
   ]
  },
  {
   "cell_type": "code",
   "execution_count": 5,
   "id": "55111f9e",
   "metadata": {},
   "outputs": [
    {
     "name": "stdout",
     "output_type": "stream",
     "text": [
      "[{'厨具': [{'end': 30,\n",
      "          'probability': 0.3874665809375699,\n",
      "          'start': 28,\n",
      "          'text': '电锅'}],\n",
      "  '水果': [{'end': 12,\n",
      "          'probability': 0.49519394559152374,\n",
      "          'start': 10,\n",
      "          'text': '黄瓜'},\n",
      "         {'end': 7,\n",
      "          'probability': 0.6221165769486205,\n",
      "          'start': 5,\n",
      "          'text': '橘子'}],\n",
      "  '电器': [{'end': 16,\n",
      "          'probability': 0.305717662717349,\n",
      "          'start': 14,\n",
      "          'text': '冰箱'}],\n",
      "  '蔬菜': [{'end': 12,\n",
      "          'probability': 0.3337591188780209,\n",
      "          'start': 10,\n",
      "          'text': '黄瓜'}]}]\n"
     ]
    }
   ],
   "source": [
    "schema = ['家电']\n",
    "schema = ['水果', '蔬菜', '电器', '厨具']\n",
    "ie.set_schema(schema)\n",
    "pprint(ie(\"小明将3个橘子和两根黄瓜放入冰箱，打开电脑学习唱歌，忘记电锅里蒸着馒头\")) \n",
    "#铁锅,电饭锅,锅, 保温锅, 进口锅, 电热毯, 电饭,电饭煲"
   ]
  },
  {
   "cell_type": "code",
   "execution_count": 4,
   "id": "3698d189",
   "metadata": {
    "scrolled": true
   },
   "outputs": [
    {
     "name": "stderr",
     "output_type": "stream",
     "text": [
      "\u001b[37m---    fused 0 elementwise_add with relu activation\u001b[0m\n",
      "\u001b[37m---    fused 0 elementwise_add with tanh activation\u001b[0m\n",
      "\u001b[37m---    fused 0 elementwise_add with leaky_relu activation\u001b[0m\n",
      "\u001b[37m---    fused 0 elementwise_add with swish activation\u001b[0m\n",
      "\u001b[37m---    fused 0 elementwise_add with hardswish activation\u001b[0m\n",
      "\u001b[37m---    fused 0 elementwise_add with sqrt activation\u001b[0m\n",
      "\u001b[37m---    fused 0 elementwise_add with abs activation\u001b[0m\n",
      "\u001b[37m---    fused 0 elementwise_add with clip activation\u001b[0m\n",
      "\u001b[37m---    fused 0 elementwise_add with gelu activation\u001b[0m\n",
      "\u001b[37m---    fused 0 elementwise_add with relu6 activation\u001b[0m\n",
      "\u001b[37m---    fused 0 elementwise_add with sigmoid activation\u001b[0m\n",
      "\u001b[37m---    fused 0 elementwise_sub with relu activation\u001b[0m\n",
      "\u001b[37m---    fused 0 elementwise_sub with tanh activation\u001b[0m\n",
      "\u001b[37m---    fused 0 elementwise_sub with leaky_relu activation\u001b[0m\n",
      "\u001b[37m---    fused 0 elementwise_sub with swish activation\u001b[0m\n",
      "\u001b[37m---    fused 0 elementwise_sub with hardswish activation\u001b[0m\n",
      "\u001b[37m---    fused 0 elementwise_sub with sqrt activation\u001b[0m\n",
      "\u001b[37m---    fused 0 elementwise_sub with abs activation\u001b[0m\n",
      "\u001b[37m---    fused 0 elementwise_sub with clip activation\u001b[0m\n",
      "\u001b[37m---    fused 0 elementwise_sub with gelu activation\u001b[0m\n",
      "\u001b[37m---    fused 0 elementwise_sub with relu6 activation\u001b[0m\n",
      "\u001b[37m---    fused 0 elementwise_sub with sigmoid activation\u001b[0m\n",
      "\u001b[37m---    fused 0 elementwise_mul with relu activation\u001b[0m\n",
      "\u001b[37m---    fused 0 elementwise_mul with tanh activation\u001b[0m\n",
      "\u001b[37m---    fused 0 elementwise_mul with leaky_relu activation\u001b[0m\n",
      "\u001b[37m---    fused 0 elementwise_mul with swish activation\u001b[0m\n",
      "\u001b[37m---    fused 0 elementwise_mul with hardswish activation\u001b[0m\n",
      "\u001b[37m---    fused 0 elementwise_mul with sqrt activation\u001b[0m\n",
      "\u001b[37m---    fused 0 elementwise_mul with abs activation\u001b[0m\n",
      "\u001b[37m---    fused 0 elementwise_mul with clip activation\u001b[0m\n",
      "\u001b[37m---    fused 0 elementwise_mul with gelu activation\u001b[0m\n",
      "\u001b[37m---    fused 0 elementwise_mul with relu6 activation\u001b[0m\n",
      "\u001b[37m---    fused 0 elementwise_mul with sigmoid activation\u001b[0m\n",
      "\u001b[32m[2022-11-18 00:31:07,361] [    INFO]\u001b[0m - We are using <class 'paddlenlp.transformers.ernie.tokenizer.ErnieTokenizer'> to load '/home/zzz/.paddlenlp/taskflow/information_extraction/uie-base'.\u001b[0m\n"
     ]
    },
    {
     "name": "stdout",
     "output_type": "stream",
     "text": [
      "[{}]\n"
     ]
    }
   ],
   "source": [
    "schema = {'评价维度': ['观点词', '情感倾向[正向，负向]']} # Define the schema for opinion extraction\n",
    "ie = Taskflow('information_extraction', schema=schema)\n",
    "ie.set_schema(schema) # Reset schema\n",
    "# pprint(ie(\"店面干净，很清静，服务员服务热情，性价比很高，发现收银台有排队\")) # Better print results using pprint\n",
    "pprint(ie(\"How nice of you to hide the unsubscribe link \")) # Better print results using pprint"
   ]
  },
  {
   "cell_type": "code",
   "execution_count": 3,
   "id": "1a77f80d",
   "metadata": {},
   "outputs": [
    {
     "name": "stderr",
     "output_type": "stream",
     "text": [
      "\u001b[37m---    fused 0 elementwise_add with relu activation\u001b[0m\n",
      "\u001b[37m---    fused 0 elementwise_add with tanh activation\u001b[0m\n",
      "\u001b[37m---    fused 0 elementwise_add with leaky_relu activation\u001b[0m\n",
      "\u001b[37m---    fused 0 elementwise_add with swish activation\u001b[0m\n",
      "\u001b[37m---    fused 0 elementwise_add with hardswish activation\u001b[0m\n",
      "\u001b[37m---    fused 0 elementwise_add with sqrt activation\u001b[0m\n",
      "\u001b[37m---    fused 0 elementwise_add with abs activation\u001b[0m\n",
      "\u001b[37m---    fused 0 elementwise_add with clip activation\u001b[0m\n",
      "\u001b[37m---    fused 0 elementwise_add with gelu activation\u001b[0m\n",
      "\u001b[37m---    fused 0 elementwise_add with relu6 activation\u001b[0m\n",
      "\u001b[37m---    fused 0 elementwise_add with sigmoid activation\u001b[0m\n",
      "\u001b[37m---    fused 0 elementwise_sub with relu activation\u001b[0m\n",
      "\u001b[37m---    fused 0 elementwise_sub with tanh activation\u001b[0m\n",
      "\u001b[37m---    fused 0 elementwise_sub with leaky_relu activation\u001b[0m\n",
      "\u001b[37m---    fused 0 elementwise_sub with swish activation\u001b[0m\n",
      "\u001b[37m---    fused 0 elementwise_sub with hardswish activation\u001b[0m\n",
      "\u001b[37m---    fused 0 elementwise_sub with sqrt activation\u001b[0m\n",
      "\u001b[37m---    fused 0 elementwise_sub with abs activation\u001b[0m\n",
      "\u001b[37m---    fused 0 elementwise_sub with clip activation\u001b[0m\n",
      "\u001b[37m---    fused 0 elementwise_sub with gelu activation\u001b[0m\n",
      "\u001b[37m---    fused 0 elementwise_sub with relu6 activation\u001b[0m\n",
      "\u001b[37m---    fused 0 elementwise_sub with sigmoid activation\u001b[0m\n",
      "\u001b[37m---    fused 0 elementwise_mul with relu activation\u001b[0m\n",
      "\u001b[37m---    fused 0 elementwise_mul with tanh activation\u001b[0m\n",
      "\u001b[37m---    fused 0 elementwise_mul with leaky_relu activation\u001b[0m\n",
      "\u001b[37m---    fused 0 elementwise_mul with swish activation\u001b[0m\n",
      "\u001b[37m---    fused 0 elementwise_mul with hardswish activation\u001b[0m\n",
      "\u001b[37m---    fused 0 elementwise_mul with sqrt activation\u001b[0m\n",
      "\u001b[37m---    fused 0 elementwise_mul with abs activation\u001b[0m\n",
      "\u001b[37m---    fused 0 elementwise_mul with clip activation\u001b[0m\n",
      "\u001b[37m---    fused 0 elementwise_mul with gelu activation\u001b[0m\n",
      "\u001b[37m---    fused 0 elementwise_mul with relu6 activation\u001b[0m\n",
      "\u001b[37m---    fused 0 elementwise_mul with sigmoid activation\u001b[0m\n",
      "\u001b[32m[2022-11-18 00:36:13,426] [    INFO]\u001b[0m - We are using <class 'paddlenlp.transformers.ernie.tokenizer.ErnieTokenizer'> to load '/home/zzz/.paddlenlp/taskflow/information_extraction/uie-base-en'.\u001b[0m\n"
     ]
    },
    {
     "name": "stdout",
     "output_type": "stream",
     "text": [
      "[{}]\n"
     ]
    }
   ],
   "source": [
    "schema = [{'Aspect': ['Opinion', 'Sentiment classification [negative, positive]']}]\n",
    "# ie_en = Taskflow('information_extraction', schema=schema)\n",
    "ie_en = Taskflow('information_extraction', schema=schema, model='uie-base-en')\n",
    "ie_en.set_schema(schema)\n",
    "pprint(ie_en(\"The teacher is very nice.\"))\n",
    "pprint(ie_en(\"How nice of you to hide the unsubscribe link.\"))"
   ]
  },
  {
   "cell_type": "code",
   "execution_count": null,
   "id": "e52baf05",
   "metadata": {},
   "outputs": [],
   "source": []
  }
 ],
 "metadata": {
  "kernelspec": {
   "display_name": "Python 3 (ipykernel)",
   "language": "python",
   "name": "python3"
  },
  "language_info": {
   "codemirror_mode": {
    "name": "ipython",
    "version": 3
   },
   "file_extension": ".py",
   "mimetype": "text/x-python",
   "name": "python",
   "nbconvert_exporter": "python",
   "pygments_lexer": "ipython3",
   "version": "3.8.13"
  }
 },
 "nbformat": 4,
 "nbformat_minor": 5
}
